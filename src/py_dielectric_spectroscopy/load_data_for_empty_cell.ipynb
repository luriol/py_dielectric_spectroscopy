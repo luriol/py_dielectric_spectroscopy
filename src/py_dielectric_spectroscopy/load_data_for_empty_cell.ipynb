{
 "cells": [
  {
   "cell_type": "code",
   "execution_count": 7,
   "id": "962366e0",
   "metadata": {},
   "outputs": [
    {
     "ename": "FileNotFoundError",
     "evalue": "[WinError 3] The system cannot find the path specified: '../Data/'",
     "output_type": "error",
     "traceback": [
      "\u001b[1;31m---------------------------------------------------------------------------\u001b[0m",
      "\u001b[1;31mFileNotFoundError\u001b[0m                         Traceback (most recent call last)",
      "Cell \u001b[1;32mIn[7], line 7\u001b[0m\n\u001b[0;32m      5\u001b[0m datadir \u001b[38;5;241m=\u001b[39m \u001b[38;5;124m\"\u001b[39m\u001b[38;5;124m../Data/\u001b[39m\u001b[38;5;124m\"\u001b[39m\n\u001b[0;32m      6\u001b[0m fname \u001b[38;5;241m=\u001b[39m \u001b[38;5;124m'\u001b[39m\u001b[38;5;124mempty_cell_2.zip\u001b[39m\u001b[38;5;124m'\u001b[39m\n\u001b[1;32m----> 7\u001b[0m dnames \u001b[38;5;241m=\u001b[39m os\u001b[38;5;241m.\u001b[39mlistdir(\u001b[38;5;124m\"\u001b[39m\u001b[38;5;124m../Data/\u001b[39m\u001b[38;5;124m\"\u001b[39m)\n\u001b[0;32m      8\u001b[0m dnames \u001b[38;5;241m=\u001b[39m [name \u001b[38;5;28;01mfor\u001b[39;00m name \u001b[38;5;129;01min\u001b[39;00m dnames \u001b[38;5;28;01mif\u001b[39;00m \u001b[38;5;124m'\u001b[39m\u001b[38;5;124mzip\u001b[39m\u001b[38;5;124m'\u001b[39m \u001b[38;5;129;01min\u001b[39;00m name]\n\u001b[0;32m      9\u001b[0m \u001b[38;5;28mprint\u001b[39m(dnames)\n",
      "\u001b[1;31mFileNotFoundError\u001b[0m: [WinError 3] The system cannot find the path specified: '../Data/'"
     ]
    }
   ],
   "source": [
    "import numpy as np\n",
    "from matplotlib import pyplot as plt\n",
    "from py_dielectric_spectroscopy.teensy_data_funs import load_data_files \n",
    "import os \n",
    "datadir = \"../Data/\"\n",
    "fname = 'empty_cell_2.zip'\n",
    "dnames = os.listdir(\"../Data/\")\n",
    "dnames = [name for name in dnames if 'zip' in name]\n",
    "print(dnames)\n",
    "# fname = 'Glycerine_Cooling.zip'\n",
    "data =load_data_files(datadir+fname)\n",
    "data.keys()\n",
    "#Sum the data\n",
    "v_mean = np.mean(data['voltages'], axis=0)\n",
    "times = data['times'][100]\n",
    "plt.plot(data['times'][0],data['voltages'][0], alpha=0.3)\n",
    "plt.title(fname+' first frame')\n",
    "plt.xlabel('time (micro s)')\n",
    "plt.ylabel('voltage (V)')\n",
    "print(times[0], times[-1])\n"
   ]
  }
 ],
 "metadata": {
  "kernelspec": {
   "display_name": "base",
   "language": "python",
   "name": "python3"
  },
  "language_info": {
   "codemirror_mode": {
    "name": "ipython",
    "version": 3
   },
   "file_extension": ".py",
   "mimetype": "text/x-python",
   "name": "python",
   "nbconvert_exporter": "python",
   "pygments_lexer": "ipython3",
   "version": "3.12.7"
  }
 },
 "nbformat": 4,
 "nbformat_minor": 5
}
